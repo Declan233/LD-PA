{
 "cells": [
  {
   "cell_type": "markdown",
   "metadata": {},
   "source": [
    "<h3><center>LD-PA: Distilling Physical Leakage to Improve Deep Learning-based Profiling Attacks</center></h3>\n",
    "\n",
    "- An example: \n",
    "  -- reference: univariate leakage is from dataset ASCADv\n",
    "  -- target: byte 2 of ASCADf"
   ]
  },
  {
   "cell_type": "markdown",
   "metadata": {},
   "source": [
    "## Training model with LD-PA paradgim"
   ]
  },
  {
   "cell_type": "code",
   "execution_count": 1,
   "metadata": {
    "vscode": {
     "languageId": "shellscript"
    }
   },
   "outputs": [
    {
     "name": "stderr",
     "output_type": "stream",
     "text": [
      "Preprocessing reference training features: 100%|██████████| 1/1 [00:00<00:00,  6.49it/s]\n",
      "Preprocessing target training traces: 100%|██████████| 10/10 [00:07<00:00,  1.29it/s]\n",
      "Preprocessing target validation traces: 100%|██████████| 10/10 [00:00<00:00, 13.26it/s]\n"
     ]
    },
    {
     "name": "stdout",
     "output_type": "stream",
     "text": [
      "trace_target.shape:(50000, 10000), label_target.shape(50000,)\n",
      "trace_ref.shape:(200000, 50), label_ref.shape(200000,)\n",
      "traces.shape:(5000, 10000), labels.shape(5000,)\n",
      "################## Training Phase of LD-PA ##################\n",
      "Early stoping at epoch-27\n"
     ]
    },
    {
     "name": "stderr",
     "output_type": "stream",
     "text": [
      "Training Epoch:  54%|█████▍    | 27/50 [02:20<01:59,  5.20s/it]\n"
     ]
    }
   ],
   "source": [
    "%%bash\n",
    "\n",
    "python src/train.py --file_path='./data' \\\n",
    "                    --ref='ASCADv' \\\n",
    "                    --target='ASCADf' \\\n",
    "                    --target_byte=2 \\\n",
    "                    --target_dim=10000 \\\n",
    "                    --feature_dim=50 \\\n",
    "                    --window=20 \\\n",
    "                    -nr=200000 \\\n",
    "                    -nt=50000 \\\n",
    "                    -ntv=5000 \\\n",
    "                    --refidx=1 \\\n",
    "                    -lm='ID' \\\n",
    "                    -lr=1e-3 \\\n",
    "                    -e=50 \\\n",
    "                    -bs=400 \\\n",
    "                    --flag='s0' \\\n",
    "                    --alpha=10 \\\n",
    "                    --ref_noise=0 \\\n",
    "                    --aug_level=0 \\\n",
    "                    --earlystop\n"
   ]
  },
  {
   "cell_type": "markdown",
   "metadata": {},
   "source": [
    "## Evaluation of trained model"
   ]
  },
  {
   "cell_type": "code",
   "execution_count": 10,
   "metadata": {
    "vscode": {
     "languageId": "shellscript"
    }
   },
   "outputs": [
    {
     "name": "stdout",
     "output_type": "stream",
     "text": [
      "Model at epoch 17 loaded\n"
     ]
    },
    {
     "name": "stderr",
     "output_type": "stream",
     "text": [
      "Standardlizing target attacking traces: 100%|██████████| 10/10 [00:00<00:00, 13.26it/s]\n"
     ]
    },
    {
     "name": "stdout",
     "output_type": "stream",
     "text": [
      "Compute and plot SNR for sbox's output.\n",
      "Figure of SNR for sbox's output is saved as snr_val_sbox.png\n",
      "Compute and plot guessing entropy\n",
      "Figure of guessing entropy is saved as GE.png\n"
     ]
    }
   ],
   "source": [
    "%%bash\n",
    "\n",
    "python src/evaluate.py --file_path='./data' \\\n",
    "                    --model_path='model_ASCADv-ASCADf2_s0.pth' \\\n",
    "                    --target='ASCADf' \\\n",
    "                    --target_byte=2 \\\n",
    "                    --feature_dim=50 \\\n",
    "                    --target_dim=10000 \\\n",
    "                    --window=20 \\\n",
    "                    -lm='ID' \\\n",
    "                    -ntv=5000 \\\n",
    "                    -nta=5000"
   ]
  }
 ],
 "metadata": {
  "kernelspec": {
   "display_name": "Python 3",
   "language": "python",
   "name": "python3"
  },
  "language_info": {
   "codemirror_mode": {
    "name": "ipython",
    "version": 3
   },
   "file_extension": ".py",
   "mimetype": "text/x-python",
   "name": "python",
   "nbconvert_exporter": "python",
   "pygments_lexer": "ipython3",
   "version": "3.12.6"
  }
 },
 "nbformat": 4,
 "nbformat_minor": 4
}
